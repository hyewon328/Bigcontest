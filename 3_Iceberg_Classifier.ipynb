{
  "nbformat": 4,
  "nbformat_minor": 0,
  "metadata": {
    "colab": {
      "name": "3. Iceberg Classifier",
      "provenance": [],
      "collapsed_sections": [],
      "authorship_tag": "ABX9TyNAwaphAx7JKX/Jz7KgFgs/",
      "include_colab_link": true
    },
    "kernelspec": {
      "name": "python3",
      "display_name": "Python 3"
    }
  },
  "cells": [
    {
      "cell_type": "markdown",
      "metadata": {
        "id": "view-in-github",
        "colab_type": "text"
      },
      "source": [
        "<a href=\"https://colab.research.google.com/github/hyewon328/Bigcontest/blob/master/3_Iceberg_Classifier.ipynb\" target=\"_parent\"><img src=\"https://colab.research.google.com/assets/colab-badge.svg\" alt=\"Open In Colab\"/></a>"
      ]
    },
    {
      "cell_type": "markdown",
      "metadata": {
        "id": "M113znHTGSrk",
        "colab_type": "text"
      },
      "source": [
        "# **Statoil/C-CORE Iceberg Classifier Challenge**"
      ]
    },
    {
      "cell_type": "code",
      "metadata": {
        "id": "K_O55vcanzeX",
        "colab_type": "code",
        "colab": {}
      },
      "source": [
        "import numpy as np\n",
        "import pandas as pd\n",
        "from sklearn.model_selection import train_test_split\n",
        "from os.path import join as opj\n",
        "from matplotlib import pyplot as plt\n",
        "from mpl_toolkits.mplot3d import Axes3D\n",
        "import pylab\n",
        "plt.rcParams['figure.figsize'] = 10, 10\n",
        "%matplotlib inline"
      ],
      "execution_count": 0,
      "outputs": []
    },
    {
      "cell_type": "markdown",
      "metadata": {
        "id": "x3GEXabDDUxe",
        "colab_type": "text"
      },
      "source": [
        "## 1. Load and understand the data\n",
        "\n",
        "\n",
        " data is from [https://www.kaggle.com/c/statoil-iceberg-classifier-challenge/data](https://)\n",
        "\n",
        "\n",
        "\n",
        "*   band_1, band_2: the **flattened** image data. Each band has 75x75 pixel values in the list, so the list has 5625 elements. Band 1 and Band 2 are signals characterized by radar backscatter produced from different polarizations at a particular incidence angle. The polarizations correspond to HH (transmit/receive horizontally) and HV (transmit horizontally and receive vertically). \n",
        "\n",
        "\n",
        "*   inc_angle: the incidence angle of which the image was taken\n",
        "*   is_iceberg: the target variable, set to 1 if it is an iceberg, and 0 if it is a ship. \n",
        "\n",
        "\n",
        "\n",
        "\n",
        "\n",
        "\n"
      ]
    },
    {
      "cell_type": "code",
      "metadata": {
        "id": "dXQdCGIRlqcy",
        "colab_type": "code",
        "outputId": "586314cc-c92f-4a75-80ee-f9887fd2060e",
        "colab": {
          "base_uri": "https://localhost:8080/",
          "height": 131
        }
      },
      "source": [
        "from google.colab import drive\n",
        "drive.mount('/content/gdrive')"
      ],
      "execution_count": 2,
      "outputs": [
        {
          "output_type": "stream",
          "text": [
            "Go to this URL in a browser: https://accounts.google.com/o/oauth2/auth?client_id=947318989803-6bn6qk8qdgf4n4g3pfee6491hc0brc4i.apps.googleusercontent.com&redirect_uri=urn%3aietf%3awg%3aoauth%3a2.0%3aoob&response_type=code&scope=email%20https%3a%2f%2fwww.googleapis.com%2fauth%2fdocs.test%20https%3a%2f%2fwww.googleapis.com%2fauth%2fdrive%20https%3a%2f%2fwww.googleapis.com%2fauth%2fdrive.photos.readonly%20https%3a%2f%2fwww.googleapis.com%2fauth%2fpeopleapi.readonly\n",
            "\n",
            "Enter your authorization code:\n",
            "··········\n",
            "Mounted at /content/gdrive\n"
          ],
          "name": "stdout"
        }
      ]
    },
    {
      "cell_type": "code",
      "metadata": {
        "id": "RE_N1Z0bfGx0",
        "colab_type": "code",
        "colab": {}
      },
      "source": [
        "df=pd.read_json('/content/gdrive/My Drive/iceberg/train.json')"
      ],
      "execution_count": 0,
      "outputs": []
    },
    {
      "cell_type": "code",
      "metadata": {
        "id": "SY49GdVVEJcP",
        "colab_type": "code",
        "outputId": "ec7f9538-7b8b-4b51-e775-8ee28ffad0c5",
        "colab": {
          "base_uri": "https://localhost:8080/",
          "height": 202
        }
      },
      "source": [
        "df.head()"
      ],
      "execution_count": 4,
      "outputs": [
        {
          "output_type": "execute_result",
          "data": {
            "text/html": [
              "<div>\n",
              "<style scoped>\n",
              "    .dataframe tbody tr th:only-of-type {\n",
              "        vertical-align: middle;\n",
              "    }\n",
              "\n",
              "    .dataframe tbody tr th {\n",
              "        vertical-align: top;\n",
              "    }\n",
              "\n",
              "    .dataframe thead th {\n",
              "        text-align: right;\n",
              "    }\n",
              "</style>\n",
              "<table border=\"1\" class=\"dataframe\">\n",
              "  <thead>\n",
              "    <tr style=\"text-align: right;\">\n",
              "      <th></th>\n",
              "      <th>id</th>\n",
              "      <th>band_1</th>\n",
              "      <th>band_2</th>\n",
              "      <th>inc_angle</th>\n",
              "      <th>is_iceberg</th>\n",
              "    </tr>\n",
              "  </thead>\n",
              "  <tbody>\n",
              "    <tr>\n",
              "      <th>0</th>\n",
              "      <td>dfd5f913</td>\n",
              "      <td>[-27.878360999999998, -27.15416, -28.668615, -...</td>\n",
              "      <td>[-27.154118, -29.537888, -31.0306, -32.190483,...</td>\n",
              "      <td>43.9239</td>\n",
              "      <td>0</td>\n",
              "    </tr>\n",
              "    <tr>\n",
              "      <th>1</th>\n",
              "      <td>e25388fd</td>\n",
              "      <td>[-12.242375, -14.920304999999999, -14.920363, ...</td>\n",
              "      <td>[-31.506321, -27.984554, -26.645678, -23.76760...</td>\n",
              "      <td>38.1562</td>\n",
              "      <td>0</td>\n",
              "    </tr>\n",
              "    <tr>\n",
              "      <th>2</th>\n",
              "      <td>58b2aaa0</td>\n",
              "      <td>[-24.603676, -24.603714, -24.871029, -23.15277...</td>\n",
              "      <td>[-24.870956, -24.092632, -20.653963, -19.41104...</td>\n",
              "      <td>45.2859</td>\n",
              "      <td>1</td>\n",
              "    </tr>\n",
              "    <tr>\n",
              "      <th>3</th>\n",
              "      <td>4cfc3a18</td>\n",
              "      <td>[-22.454607, -23.082819, -23.998013, -23.99805...</td>\n",
              "      <td>[-27.889421, -27.519794, -27.165262, -29.10350...</td>\n",
              "      <td>43.8306</td>\n",
              "      <td>0</td>\n",
              "    </tr>\n",
              "    <tr>\n",
              "      <th>4</th>\n",
              "      <td>271f93f4</td>\n",
              "      <td>[-26.006956, -23.164886, -23.164886, -26.89116...</td>\n",
              "      <td>[-27.206915, -30.259186, -30.259186, -23.16495...</td>\n",
              "      <td>35.6256</td>\n",
              "      <td>0</td>\n",
              "    </tr>\n",
              "  </tbody>\n",
              "</table>\n",
              "</div>"
            ],
            "text/plain": [
              "         id  ... is_iceberg\n",
              "0  dfd5f913  ...          0\n",
              "1  e25388fd  ...          0\n",
              "2  58b2aaa0  ...          1\n",
              "3  4cfc3a18  ...          0\n",
              "4  271f93f4  ...          0\n",
              "\n",
              "[5 rows x 5 columns]"
            ]
          },
          "metadata": {
            "tags": []
          },
          "execution_count": 4
        }
      ]
    },
    {
      "cell_type": "markdown",
      "metadata": {
        "id": "WO3IEWEkHd5T",
        "colab_type": "text"
      },
      "source": [
        "## 2. Data Preprocessing"
      ]
    },
    {
      "cell_type": "markdown",
      "metadata": {
        "id": "Z7lUZCgxH6nH",
        "colab_type": "text"
      },
      "source": [
        "**What is HH and HV?** <br>\n",
        "Sentinal Settalite is equivalent to RISTSAT(an Indian remote sensing Sat) and they only Transmit pings in H polarization, AND NOT IN V polarization. Those H-pings gets scattered, objects change their polarization and returns as a mix of H and V. Since Sentinel has only H-transmitter, return signals are of the form of HH and HV only. <br>\n",
        "\n",
        "Now, we are going to make 3 channels of RGB by extracting band_1(HH), band_2\n",
        "(HV) and band_3, which is the average of those two.\n",
        "\n"
      ]
    },
    {
      "cell_type": "code",
      "metadata": {
        "id": "nrcN5E_OH5_m",
        "colab_type": "code",
        "colab": {}
      },
      "source": [
        "X_band_1=np.array([np.array(band).astype(np.float32).reshape(75,75) for band in df['band_1']])\n",
        "X_band_2=np.array([np.array(band).astype(np.float32).reshape(75,75) for band in df['band_2']])"
      ],
      "execution_count": 0,
      "outputs": []
    },
    {
      "cell_type": "code",
      "metadata": {
        "id": "3QyqLuK6FUCR",
        "colab_type": "code",
        "outputId": "318be0f1-c360-422d-99ca-f86ebf7354ab",
        "colab": {
          "base_uri": "https://localhost:8080/",
          "height": 55
        }
      },
      "source": [
        "print(X_band_1.shape)\n",
        "print(X_band_2.shape)"
      ],
      "execution_count": 6,
      "outputs": [
        {
          "output_type": "stream",
          "text": [
            "(1604, 75, 75)\n",
            "(1604, 75, 75)\n"
          ],
          "name": "stdout"
        }
      ]
    },
    {
      "cell_type": "code",
      "metadata": {
        "id": "n7cQXOfBJEek",
        "colab_type": "code",
        "colab": {}
      },
      "source": [
        "# make X_train data by concatenating X_band_1, X_band_2, and their average.\n",
        "X_train=np.concatenate([X_band_1[:,:,:,np.newaxis],X_band_2[:,:,:,np.newaxis],((X_band_1+X_band_2)/2)[:,:,:,np.newaxis]],axis=-1)"
      ],
      "execution_count": 0,
      "outputs": []
    },
    {
      "cell_type": "markdown",
      "metadata": {
        "id": "5yC5u2FmKkRf",
        "colab_type": "text"
      },
      "source": [
        "**cf** <br>\n",
        "\n",
        "\n",
        "*   `np.newaxis`: numpy.newaxis is used to increase the dimension of the existing array by one more dimension\n",
        "\n"
      ]
    },
    {
      "cell_type": "code",
      "metadata": {
        "id": "Rjr00JAcKgVC",
        "colab_type": "code",
        "outputId": "a2b2582a-c6cc-443f-8ffa-7b2f2a4ff2fa",
        "colab": {
          "base_uri": "https://localhost:8080/",
          "height": 55
        }
      },
      "source": [
        "# X_band_1 dimension change due to np.newaxis\n",
        "print(X_band_1.shape)\n",
        "print(X_band_1[:,:,:,np.newaxis].shape)"
      ],
      "execution_count": 8,
      "outputs": [
        {
          "output_type": "stream",
          "text": [
            "(1604, 75, 75)\n",
            "(1604, 75, 75, 1)\n"
          ],
          "name": "stdout"
        }
      ]
    },
    {
      "cell_type": "code",
      "metadata": {
        "id": "bBuQQa8UKOid",
        "colab_type": "code",
        "outputId": "804f9347-e8fd-4201-d3eb-2e4621893073",
        "colab": {
          "base_uri": "https://localhost:8080/",
          "height": 36
        }
      },
      "source": [
        "X_train.shape"
      ],
      "execution_count": 9,
      "outputs": [
        {
          "output_type": "execute_result",
          "data": {
            "text/plain": [
              "(1604, 75, 75, 3)"
            ]
          },
          "metadata": {
            "tags": []
          },
          "execution_count": 9
        }
      ]
    },
    {
      "cell_type": "markdown",
      "metadata": {
        "id": "DzBZH3MlLi2C",
        "colab_type": "text"
      },
      "source": [
        "**Grahp iceberg**"
      ]
    },
    {
      "cell_type": "code",
      "metadata": {
        "id": "ov4eaN3iQfYe",
        "colab_type": "code",
        "outputId": "205414a2-f57c-4773-894c-433e26feeff4",
        "colab": {
          "base_uri": "https://localhost:8080/",
          "height": 280
        }
      },
      "source": [
        "! pip install chart_studio"
      ],
      "execution_count": 10,
      "outputs": [
        {
          "output_type": "stream",
          "text": [
            "Collecting chart_studio\n",
            "\u001b[?25l  Downloading https://files.pythonhosted.org/packages/ca/ce/330794a6b6ca4b9182c38fc69dd2a9cbff60fd49421cb8648ee5fee352dc/chart_studio-1.1.0-py3-none-any.whl (64kB)\n",
            "\r\u001b[K     |█████                           | 10kB 17.1MB/s eta 0:00:01\r\u001b[K     |██████████▏                     | 20kB 2.2MB/s eta 0:00:01\r\u001b[K     |███████████████▎                | 30kB 2.9MB/s eta 0:00:01\r\u001b[K     |████████████████████▍           | 40kB 3.1MB/s eta 0:00:01\r\u001b[K     |█████████████████████████▍      | 51kB 2.5MB/s eta 0:00:01\r\u001b[K     |██████████████████████████████▌ | 61kB 2.8MB/s eta 0:00:01\r\u001b[K     |████████████████████████████████| 71kB 2.5MB/s \n",
            "\u001b[?25hRequirement already satisfied: requests in /usr/local/lib/python3.6/dist-packages (from chart_studio) (2.23.0)\n",
            "Requirement already satisfied: retrying>=1.3.3 in /usr/local/lib/python3.6/dist-packages (from chart_studio) (1.3.3)\n",
            "Requirement already satisfied: six in /usr/local/lib/python3.6/dist-packages (from chart_studio) (1.12.0)\n",
            "Requirement already satisfied: plotly in /usr/local/lib/python3.6/dist-packages (from chart_studio) (4.4.1)\n",
            "Requirement already satisfied: urllib3!=1.25.0,!=1.25.1,<1.26,>=1.21.1 in /usr/local/lib/python3.6/dist-packages (from requests->chart_studio) (1.24.3)\n",
            "Requirement already satisfied: certifi>=2017.4.17 in /usr/local/lib/python3.6/dist-packages (from requests->chart_studio) (2020.4.5.1)\n",
            "Requirement already satisfied: chardet<4,>=3.0.2 in /usr/local/lib/python3.6/dist-packages (from requests->chart_studio) (3.0.4)\n",
            "Requirement already satisfied: idna<3,>=2.5 in /usr/local/lib/python3.6/dist-packages (from requests->chart_studio) (2.9)\n",
            "Installing collected packages: chart-studio\n",
            "Successfully installed chart-studio-1.1.0\n"
          ],
          "name": "stdout"
        }
      ]
    },
    {
      "cell_type": "code",
      "metadata": {
        "id": "XDBQ3vYFLlst",
        "colab_type": "code",
        "outputId": "78f1ebe5-5730-40a5-a9d9-5f79b163bf3e",
        "colab": {
          "base_uri": "https://localhost:8080/",
          "height": 17
        }
      },
      "source": [
        "import plotly.offline as py\n",
        "import plotly.graph_objs as go\n",
        "py.init_notebook_mode(connected=True)\n",
        "%matplotlib inline"
      ],
      "execution_count": 11,
      "outputs": [
        {
          "output_type": "display_data",
          "data": {
            "text/html": [
              "        <script type=\"text/javascript\">\n",
              "        window.PlotlyConfig = {MathJaxConfig: 'local'};\n",
              "        if (window.MathJax) {MathJax.Hub.Config({SVG: {font: \"STIX-Web\"}});}\n",
              "        if (typeof require !== 'undefined') {\n",
              "        require.undef(\"plotly\");\n",
              "        requirejs.config({\n",
              "            paths: {\n",
              "                'plotly': ['https://cdn.plot.ly/plotly-latest.min']\n",
              "            }\n",
              "        });\n",
              "        require(['plotly'], function(Plotly) {\n",
              "            window._Plotly = Plotly;\n",
              "        });\n",
              "        }\n",
              "        </script>\n",
              "        "
            ]
          },
          "metadata": {
            "tags": []
          }
        }
      ]
    },
    {
      "cell_type": "code",
      "metadata": {
        "id": "x-qNB3znM_hW",
        "colab_type": "code",
        "colab": {}
      },
      "source": [
        "def plot3d(c,name):\n",
        "  data=[go.Surface(z=c)]\n",
        "  layout=go.Layout(title=name,autosize=False,width=700,height=700,\n",
        "                   margin=dict(l=65,r=50,b=65,t=90))\n",
        "  fig=go.Figure(data=data,layout=layout)\n",
        "  py.iplot(fig)\n",
        "  fig.show()"
      ],
      "execution_count": 0,
      "outputs": []
    },
    {
      "cell_type": "code",
      "metadata": {
        "id": "eV038CQNObVX",
        "colab_type": "code",
        "colab": {}
      },
      "source": [
        "plot3d(X_band_1[12,:,:], 'iceberg')"
      ],
      "execution_count": 0,
      "outputs": []
    },
    {
      "cell_type": "code",
      "metadata": {
        "id": "Lp0taqnoOvIp",
        "colab_type": "code",
        "colab": {}
      },
      "source": [
        "plot3d(X_band_1[14,:,:], 'Ship')"
      ],
      "execution_count": 0,
      "outputs": []
    },
    {
      "cell_type": "markdown",
      "metadata": {
        "id": "sk2kSFb2X8W5",
        "colab_type": "text"
      },
      "source": [
        "## 3. Modeling - CNN"
      ]
    },
    {
      "cell_type": "code",
      "metadata": {
        "id": "U6VPE_NhYCya",
        "colab_type": "code",
        "outputId": "0015f9c6-c7b1-42fb-cb30-15c9158dcec2",
        "colab": {
          "base_uri": "https://localhost:8080/",
          "height": 36
        }
      },
      "source": [
        "from matplotlib import pyplot\n",
        "from keras.preprocessing.image import ImageDataGenerator\n",
        "from keras.models import Sequential\n",
        "from keras.layers import Conv2D, MaxPooling2D, Dense, Dropout, Input, Flatten, Activation\n",
        "from keras.layers import GlobalMaxPooling2D\n",
        "from keras.layers.normalization import BatchNormalization\n",
        "from keras.layers.merge import Concatenate\n",
        "from keras.models import Model\n",
        "from keras import initializers\n",
        "from keras.optimizers import Adam\n",
        "from keras.callbacks import ModelCheckpoint, Callback, EarlyStopping"
      ],
      "execution_count": 15,
      "outputs": [
        {
          "output_type": "stream",
          "text": [
            "Using TensorFlow backend.\n"
          ],
          "name": "stderr"
        }
      ]
    },
    {
      "cell_type": "code",
      "metadata": {
        "id": "04Fyn2Y6YGKT",
        "colab_type": "code",
        "colab": {}
      },
      "source": [
        "def getModel():\n",
        "  model=Sequential()\n",
        "  # Layer 1\n",
        "  model.add(Conv2D(64,3,activation='relu',input_shape=(75,75,3)))\n",
        "  model.add(MaxPooling2D(pool_size=(3,3),strides=(2,2)))\n",
        "  model.add(Dropout(0.2))\n",
        "\n",
        "  # Layer 2\n",
        "  model.add(Conv2D(128,3,activation='relu'))\n",
        "  model.add(MaxPooling2D(pool_size=(2,2),strides=(2,2)))\n",
        "  model.add(Dropout(0.2))\n",
        "\n",
        "  # Layer 3\n",
        "  model.add(Conv2D(128,3,activation='relu'))\n",
        "  model.add(MaxPooling2D(pool_size=(2,2),strides=(2,2)))\n",
        "  model.add(Dropout(0.2))\n",
        "\n",
        "  # Layer 4\n",
        "  model.add(Conv2D(64, kernel_size=(3, 3), activation='relu'))\n",
        "  model.add(MaxPooling2D(pool_size=(2, 2), strides=(2, 2)))\n",
        "  model.add(Dropout(0.2))\n",
        "\n",
        "  model.add(Flatten())\n",
        "\n",
        "  #Dense Layers\n",
        "  model.add(Dense(512))\n",
        "  model.add(Activation('relu'))\n",
        "  model.add(Dropout(0.2))\n",
        "\n",
        "  #Dense Layer 2\n",
        "  model.add(Dense(256))\n",
        "  model.add(Activation('relu'))\n",
        "  model.add(Dropout(0.2))\n",
        "\n",
        "  #Sigmoid Layer\n",
        "  model.add(Dense(1))\n",
        "  model.add(Activation('sigmoid'))\n",
        "  \n",
        "  #Optimizer\n",
        "  optim=Adam(lr=0.001, beta_1=0.9, beta_2=0.999, epsilon=1e-08, decay=0.0)\n",
        "  model.compile(loss='binary_crossentropy',optimizer=optim,metrics=['accuracy'])\n",
        "  model.summary()\n",
        "  return model\n"
      ],
      "execution_count": 0,
      "outputs": []
    },
    {
      "cell_type": "markdown",
      "metadata": {
        "id": "JFf9MZrd4YQs",
        "colab_type": "text"
      },
      "source": [
        "**Callback** <br>\n",
        "Too many epochs cause overfitting and the opposite causes underfitting problems. We use **callback** to solve this. <br>\n",
        "\n",
        "`from keras.callbacks import EarlyStopping, ModelCheckpoint` <br>\n",
        "\n",
        "Reference: [https://3months.tistory.com/424](https://)\n",
        "\n",
        "*   EarlyStopping: \n",
        " + monitor: monitor 할 대상 ex) val_loss: monitor validation loss\n",
        " + mode: 관찰 항목에 대해 개선이 없다고 판단하기 위한 기준을 지정한다. 예를 들어 관찰 항목이 ‘val_loss’인 경우에는 감소되는 것이 멈출 때 종료되어야 하므로, ‘min’으로 설정된다.\n",
        " + patience: 성능이 증가하지 않는 epoch 를 몇번 허용할것인지 판단한다.\n",
        "\n",
        "\n",
        "*   ModelCheckpoint: save best parameters if validation performance is good\n",
        "\n",
        "\n",
        "\n",
        "\n",
        "\n",
        "\n"
      ]
    },
    {
      "cell_type": "code",
      "metadata": {
        "id": "VAlQsboOZvkP",
        "colab_type": "code",
        "colab": {}
      },
      "source": [
        "def get_callbacks(filepath, patience=2):\n",
        "    es = EarlyStopping('val_loss', patience=patience, mode=\"min\")\n",
        "    msave = ModelCheckpoint(filepath, save_best_only=True)\n",
        "    return [es, msave]\n",
        "file_path = \"/content/gdrive/My Drive/iceberg/model_weights.hdf5\"\n",
        "callbacks = get_callbacks(filepath=file_path, patience=5)"
      ],
      "execution_count": 0,
      "outputs": []
    },
    {
      "cell_type": "code",
      "metadata": {
        "id": "m-Lc7Cm-aHKu",
        "colab_type": "code",
        "outputId": "5861d9e9-f888-4d43-d515-11d129217419",
        "colab": {
          "base_uri": "https://localhost:8080/",
          "height": 55
        }
      },
      "source": [
        "callbacks"
      ],
      "execution_count": 18,
      "outputs": [
        {
          "output_type": "execute_result",
          "data": {
            "text/plain": [
              "[<keras.callbacks.callbacks.EarlyStopping at 0x7f07191bbcf8>,\n",
              " <keras.callbacks.callbacks.ModelCheckpoint at 0x7f07191bbdd8>]"
            ]
          },
          "metadata": {
            "tags": []
          },
          "execution_count": 18
        }
      ]
    },
    {
      "cell_type": "code",
      "metadata": {
        "id": "Hu-QhtGXaRIF",
        "colab_type": "code",
        "colab": {}
      },
      "source": [
        "target_train=df['is_iceberg']\n",
        "X_train_cv, X_valid, y_train_cv, y_valid = train_test_split(X_train, target_train, random_state=1, test_size=0.25)"
      ],
      "execution_count": 0,
      "outputs": []
    },
    {
      "cell_type": "code",
      "metadata": {
        "id": "b6awvrD-aiyV",
        "colab_type": "code",
        "outputId": "720412f1-e193-4d27-f727-7ce486a3993b",
        "colab": {
          "base_uri": "https://localhost:8080/",
          "height": 1000
        }
      },
      "source": [
        "import os\n",
        "gmodel=getModel()\n",
        "model=gmodel.fit(X_train_cv, y_train_cv,\n",
        "          batch_size=24,\n",
        "          epochs=50,\n",
        "          verbose=1,\n",
        "          validation_data=(X_valid, y_valid),\n",
        "          callbacks=callbacks)"
      ],
      "execution_count": 37,
      "outputs": [
        {
          "output_type": "stream",
          "text": [
            "Model: \"sequential_2\"\n",
            "_________________________________________________________________\n",
            "Layer (type)                 Output Shape              Param #   \n",
            "=================================================================\n",
            "conv2d_5 (Conv2D)            (None, 73, 73, 64)        1792      \n",
            "_________________________________________________________________\n",
            "max_pooling2d_5 (MaxPooling2 (None, 36, 36, 64)        0         \n",
            "_________________________________________________________________\n",
            "dropout_7 (Dropout)          (None, 36, 36, 64)        0         \n",
            "_________________________________________________________________\n",
            "conv2d_6 (Conv2D)            (None, 34, 34, 128)       73856     \n",
            "_________________________________________________________________\n",
            "max_pooling2d_6 (MaxPooling2 (None, 17, 17, 128)       0         \n",
            "_________________________________________________________________\n",
            "dropout_8 (Dropout)          (None, 17, 17, 128)       0         \n",
            "_________________________________________________________________\n",
            "conv2d_7 (Conv2D)            (None, 15, 15, 128)       147584    \n",
            "_________________________________________________________________\n",
            "max_pooling2d_7 (MaxPooling2 (None, 7, 7, 128)         0         \n",
            "_________________________________________________________________\n",
            "dropout_9 (Dropout)          (None, 7, 7, 128)         0         \n",
            "_________________________________________________________________\n",
            "conv2d_8 (Conv2D)            (None, 5, 5, 64)          73792     \n",
            "_________________________________________________________________\n",
            "max_pooling2d_8 (MaxPooling2 (None, 2, 2, 64)          0         \n",
            "_________________________________________________________________\n",
            "dropout_10 (Dropout)         (None, 2, 2, 64)          0         \n",
            "_________________________________________________________________\n",
            "flatten_2 (Flatten)          (None, 256)               0         \n",
            "_________________________________________________________________\n",
            "dense_4 (Dense)              (None, 512)               131584    \n",
            "_________________________________________________________________\n",
            "activation_4 (Activation)    (None, 512)               0         \n",
            "_________________________________________________________________\n",
            "dropout_11 (Dropout)         (None, 512)               0         \n",
            "_________________________________________________________________\n",
            "dense_5 (Dense)              (None, 256)               131328    \n",
            "_________________________________________________________________\n",
            "activation_5 (Activation)    (None, 256)               0         \n",
            "_________________________________________________________________\n",
            "dropout_12 (Dropout)         (None, 256)               0         \n",
            "_________________________________________________________________\n",
            "dense_6 (Dense)              (None, 1)                 257       \n",
            "_________________________________________________________________\n",
            "activation_6 (Activation)    (None, 1)                 0         \n",
            "=================================================================\n",
            "Total params: 560,193\n",
            "Trainable params: 560,193\n",
            "Non-trainable params: 0\n",
            "_________________________________________________________________\n",
            "Train on 1203 samples, validate on 401 samples\n",
            "Epoch 1/50\n",
            "1203/1203 [==============================] - 34s 29ms/step - loss: 1.0753 - accuracy: 0.5237 - val_loss: 0.5947 - val_accuracy: 0.6359\n",
            "Epoch 2/50\n",
            "1203/1203 [==============================] - 34s 28ms/step - loss: 0.5672 - accuracy: 0.6592 - val_loss: 0.5411 - val_accuracy: 0.7257\n",
            "Epoch 3/50\n",
            "1203/1203 [==============================] - 34s 28ms/step - loss: 0.5105 - accuracy: 0.7257 - val_loss: 0.4792 - val_accuracy: 0.8005\n",
            "Epoch 4/50\n",
            "1203/1203 [==============================] - 34s 28ms/step - loss: 0.4664 - accuracy: 0.7697 - val_loss: 0.4415 - val_accuracy: 0.7955\n",
            "Epoch 5/50\n",
            "1203/1203 [==============================] - 34s 28ms/step - loss: 0.4522 - accuracy: 0.7880 - val_loss: 0.4311 - val_accuracy: 0.8030\n",
            "Epoch 6/50\n",
            "1203/1203 [==============================] - 33s 27ms/step - loss: 0.4208 - accuracy: 0.7947 - val_loss: 0.4655 - val_accuracy: 0.8080\n",
            "Epoch 7/50\n",
            "1203/1203 [==============================] - 33s 28ms/step - loss: 0.4147 - accuracy: 0.8071 - val_loss: 0.4113 - val_accuracy: 0.8005\n",
            "Epoch 8/50\n",
            "1203/1203 [==============================] - 33s 28ms/step - loss: 0.3851 - accuracy: 0.8113 - val_loss: 0.3888 - val_accuracy: 0.8429\n",
            "Epoch 9/50\n",
            "1203/1203 [==============================] - 33s 28ms/step - loss: 0.4130 - accuracy: 0.7972 - val_loss: 0.3678 - val_accuracy: 0.8454\n",
            "Epoch 10/50\n",
            "1203/1203 [==============================] - 33s 27ms/step - loss: 0.4075 - accuracy: 0.7938 - val_loss: 0.3493 - val_accuracy: 0.8504\n",
            "Epoch 11/50\n",
            "1203/1203 [==============================] - 34s 28ms/step - loss: 0.3591 - accuracy: 0.8288 - val_loss: 0.3523 - val_accuracy: 0.8404\n",
            "Epoch 12/50\n",
            "1203/1203 [==============================] - 33s 28ms/step - loss: 0.3507 - accuracy: 0.8313 - val_loss: 0.3119 - val_accuracy: 0.8753\n",
            "Epoch 13/50\n",
            "1203/1203 [==============================] - 33s 27ms/step - loss: 0.3686 - accuracy: 0.8229 - val_loss: 0.3488 - val_accuracy: 0.8504\n",
            "Epoch 14/50\n",
            "1203/1203 [==============================] - 34s 28ms/step - loss: 0.3596 - accuracy: 0.8387 - val_loss: 0.4256 - val_accuracy: 0.7681\n",
            "Epoch 15/50\n",
            "1203/1203 [==============================] - 33s 27ms/step - loss: 0.3496 - accuracy: 0.8329 - val_loss: 0.3312 - val_accuracy: 0.8728\n",
            "Epoch 16/50\n",
            "1203/1203 [==============================] - 33s 27ms/step - loss: 0.3338 - accuracy: 0.8495 - val_loss: 0.3226 - val_accuracy: 0.8554\n",
            "Epoch 17/50\n",
            "1203/1203 [==============================] - 33s 28ms/step - loss: 0.3036 - accuracy: 0.8628 - val_loss: 0.3073 - val_accuracy: 0.8603\n",
            "Epoch 18/50\n",
            "1203/1203 [==============================] - 33s 28ms/step - loss: 0.3214 - accuracy: 0.8412 - val_loss: 0.3245 - val_accuracy: 0.8554\n",
            "Epoch 19/50\n",
            "1203/1203 [==============================] - 33s 28ms/step - loss: 0.3208 - accuracy: 0.8637 - val_loss: 0.3214 - val_accuracy: 0.8603\n",
            "Epoch 20/50\n",
            "1203/1203 [==============================] - 33s 28ms/step - loss: 0.2822 - accuracy: 0.8753 - val_loss: 0.3149 - val_accuracy: 0.8554\n",
            "Epoch 21/50\n",
            "1203/1203 [==============================] - 33s 28ms/step - loss: 0.2870 - accuracy: 0.8670 - val_loss: 0.3315 - val_accuracy: 0.8504\n",
            "Epoch 22/50\n",
            "1203/1203 [==============================] - 33s 27ms/step - loss: 0.2766 - accuracy: 0.8761 - val_loss: 0.3821 - val_accuracy: 0.8454\n"
          ],
          "name": "stdout"
        }
      ]
    },
    {
      "cell_type": "code",
      "metadata": {
        "id": "l18JqVrXjZbt",
        "colab_type": "code",
        "outputId": "fef569c7-2a12-4169-d1e3-44f1bc252bcc",
        "colab": {
          "base_uri": "https://localhost:8080/",
          "height": 73
        }
      },
      "source": [
        "score = gmodel.evaluate(X_valid, y_valid, verbose=1)\n",
        "print('Test loss:', score[0])\n",
        "print('Test accuracy:', score[1])"
      ],
      "execution_count": 21,
      "outputs": [
        {
          "output_type": "stream",
          "text": [
            "401/401 [==============================] - 2s 5ms/step\n",
            "Test loss: 0.2959248202845937\n",
            "Test accuracy: 0.8678303956985474\n"
          ],
          "name": "stdout"
        }
      ]
    },
    {
      "cell_type": "markdown",
      "metadata": {
        "id": "rFW-H7YOmUCu",
        "colab_type": "text"
      },
      "source": [
        "## 4. Test set and predict"
      ]
    },
    {
      "cell_type": "code",
      "metadata": {
        "id": "FvigdoymmPHM",
        "colab_type": "code",
        "colab": {}
      },
      "source": [
        "test=pd.read_json('/content/gdrive/My Drive/iceberg/test.json')\n",
        "X_band_test_1=np.array([np.array(band).astype(np.float32).reshape(75, 75) for band in test[\"band_1\"]])\n",
        "X_band_test_2=np.array([np.array(band).astype(np.float32).reshape(75, 75) for band in test[\"band_2\"]])\n",
        "X_test = np.concatenate([X_band_test_1[:, :, :, np.newaxis]\n",
        "                          , X_band_test_2[:, :, :, np.newaxis]\n",
        "                         , ((X_band_test_1+X_band_test_2)/2)[:, :, :, np.newaxis]], axis=-1)\n",
        "predicted_test=gmodel.predict_proba(X_test)"
      ],
      "execution_count": 0,
      "outputs": []
    },
    {
      "cell_type": "code",
      "metadata": {
        "id": "pjUbTmtIzMmb",
        "colab_type": "code",
        "colab": {
          "base_uri": "https://localhost:8080/",
          "height": 202
        },
        "outputId": "fac2931a-8d60-4174-b40a-2f3b8af9a8ef"
      },
      "source": [
        "test.head()"
      ],
      "execution_count": 24,
      "outputs": [
        {
          "output_type": "execute_result",
          "data": {
            "text/html": [
              "<div>\n",
              "<style scoped>\n",
              "    .dataframe tbody tr th:only-of-type {\n",
              "        vertical-align: middle;\n",
              "    }\n",
              "\n",
              "    .dataframe tbody tr th {\n",
              "        vertical-align: top;\n",
              "    }\n",
              "\n",
              "    .dataframe thead th {\n",
              "        text-align: right;\n",
              "    }\n",
              "</style>\n",
              "<table border=\"1\" class=\"dataframe\">\n",
              "  <thead>\n",
              "    <tr style=\"text-align: right;\">\n",
              "      <th></th>\n",
              "      <th>id</th>\n",
              "      <th>band_1</th>\n",
              "      <th>band_2</th>\n",
              "      <th>inc_angle</th>\n",
              "    </tr>\n",
              "  </thead>\n",
              "  <tbody>\n",
              "    <tr>\n",
              "      <th>0</th>\n",
              "      <td>5941774d</td>\n",
              "      <td>[-15.863251, -15.201077, -17.887735, -19.17248...</td>\n",
              "      <td>[-21.629612, -21.142353, -23.908337, -28.34524...</td>\n",
              "      <td>34.966400</td>\n",
              "    </tr>\n",
              "    <tr>\n",
              "      <th>1</th>\n",
              "      <td>4023181e</td>\n",
              "      <td>[-26.058969497680664, -26.058969497680664, -26...</td>\n",
              "      <td>[-25.754207611083984, -25.754207611083984, -25...</td>\n",
              "      <td>32.615072</td>\n",
              "    </tr>\n",
              "    <tr>\n",
              "      <th>2</th>\n",
              "      <td>b20200e4</td>\n",
              "      <td>[-14.14109992980957, -15.064241409301758, -17....</td>\n",
              "      <td>[-14.74563980102539, -14.590410232543945, -14....</td>\n",
              "      <td>37.505433</td>\n",
              "    </tr>\n",
              "    <tr>\n",
              "      <th>3</th>\n",
              "      <td>e7f018bb</td>\n",
              "      <td>[-12.167478, -13.706167, -16.54837, -13.572674...</td>\n",
              "      <td>[-24.32222, -26.375538, -24.096739, -23.8769, ...</td>\n",
              "      <td>34.473900</td>\n",
              "    </tr>\n",
              "    <tr>\n",
              "      <th>4</th>\n",
              "      <td>4371c8c3</td>\n",
              "      <td>[-23.37459373474121, -26.02718162536621, -28.1...</td>\n",
              "      <td>[-25.72234344482422, -27.011577606201172, -23....</td>\n",
              "      <td>43.918874</td>\n",
              "    </tr>\n",
              "  </tbody>\n",
              "</table>\n",
              "</div>"
            ],
            "text/plain": [
              "         id  ...  inc_angle\n",
              "0  5941774d  ...  34.966400\n",
              "1  4023181e  ...  32.615072\n",
              "2  b20200e4  ...  37.505433\n",
              "3  e7f018bb  ...  34.473900\n",
              "4  4371c8c3  ...  43.918874\n",
              "\n",
              "[5 rows x 4 columns]"
            ]
          },
          "metadata": {
            "tags": []
          },
          "execution_count": 24
        }
      ]
    },
    {
      "cell_type": "code",
      "metadata": {
        "id": "84FdSDNxzS5z",
        "colab_type": "code",
        "colab": {}
      },
      "source": [
        "preds=[1 if x>0.5 else 0 for x in predicted_test]"
      ],
      "execution_count": 0,
      "outputs": []
    },
    {
      "cell_type": "code",
      "metadata": {
        "id": "rtQ62p9N63fC",
        "colab_type": "code",
        "colab": {
          "base_uri": "https://localhost:8080/",
          "height": 317
        },
        "outputId": "c079a1bd-6cd7-46f3-b2cb-57d1fbec4e08"
      },
      "source": [
        "plt.figure(figsize=(10,10))\n",
        "\n",
        "\n",
        "fig, loss_ax = plt.subplots()\n",
        "acc_ax = loss_ax.twinx()\n",
        "epoch=50\n",
        "loss_ax.plot(model.history['loss'],'y',label='train loss')\n",
        "loss_ax.plot(model.history['val_loss'],'b',label='val loss')\n",
        "acc_ax.plot(model.history['accuracy'],'r',label='train accuracy')\n",
        "acc_ax.plot(model.history['val_accuracy'],'g',label='val accuracy')\n",
        "\n",
        "loss_ax.set_xlabel('epoch')\n",
        "loss_ax.set_ylabel('loss')\n",
        "acc_ax.set_ylabel('accuray')\n",
        "\n",
        "loss_ax.legend(loc='upper left')\n",
        "acc_ax.legend(loc='lower left')"
      ],
      "execution_count": 44,
      "outputs": [
        {
          "output_type": "execute_result",
          "data": {
            "text/plain": [
              "<matplotlib.legend.Legend at 0x7f06460bb898>"
            ]
          },
          "metadata": {
            "tags": []
          },
          "execution_count": 44
        },
        {
          "output_type": "display_data",
          "data": {
            "text/plain": [
              "<Figure size 720x720 with 0 Axes>"
            ]
          },
          "metadata": {
            "tags": []
          }
        },
        {
          "output_type": "display_data",
          "data": {
            "image/png": "[encoded data removed]",
            "text/plain": [
              "<Figure size 432x288 with 2 Axes>"
            ]
          },
          "metadata": {
            "tags": [],
            "needs_background": "light"
          }
        }
      ]
    }
  ]
}