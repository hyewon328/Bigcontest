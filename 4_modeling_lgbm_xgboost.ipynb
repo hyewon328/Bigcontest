{
  "nbformat": 4,
  "nbformat_minor": 0,
  "metadata": {
    "colab": {
      "name": "modeling_lgbm_xgboost",
      "version": "0.3.2",
      "provenance": [],
      "collapsed_sections": [],
      "toc_visible": true,
      "machine_shape": "hm"
    },
    "kernelspec": {
      "name": "python3",
      "display_name": "Python 3"
    },
    "accelerator": "GPU"
  },
  "cells": [
    {
      "cell_type": "code",
      "metadata": {
        "id": "nRarrsCZ9sMC",
        "colab_type": "code",
        "outputId": "d83b0f46-c7f1-4f18-d603-08a473d6d9e3",
        "colab": {
          "base_uri": "https://localhost:8080/",
          "height": 56
        }
      },
      "source": [
        "from google.colab import drive\n",
        "drive.mount('/content/drive')"
      ],
      "execution_count": 0,
      "outputs": [
        {
          "output_type": "stream",
          "text": [
            "Drive already mounted at /content/drive; to attempt to forcibly remount, call drive.mount(\"/content/drive\", force_remount=True).\n"
          ],
          "name": "stdout"
        }
      ]
    },
    {
      "cell_type": "markdown",
      "metadata": {
        "id": "WDmqKBOmFvQA",
        "colab_type": "text"
      },
      "source": [
        "# 목차  \n",
        "\n",
        "## 1. LGBM Modeling  \n",
        "## 2. XGboost Modeling"
      ]
    },
    {
      "cell_type": "code",
      "metadata": {
        "id": "9Us46jMr-RtM",
        "colab_type": "code",
        "colab": {}
      },
      "source": [
        "import pandas as pd\n",
        "import numpy as np\n",
        "from sklearn.model_selection import cross_val_score, GridSearchCV, KFold, RandomizedSearchCV, train_test_split\n",
        "from sklearn.metrics import auc, accuracy_score, confusion_matrix, mean_squared_error\n",
        "from sklearn.metrics import accuracy_score, precision_score, recall_score, roc_auc_score\n",
        "import xgboost as xgb\n",
        "import lightgbm as lgb\n",
        "import warnings\n",
        "from sklearn.model_selection import StratifiedKFold\n",
        "import matplotlib.pyplot as plt\n",
        "import seaborn as sns\n",
        "import joblib\n",
        "import os"
      ],
      "execution_count": 0,
      "outputs": []
    },
    {
      "cell_type": "markdown",
      "metadata": {
        "id": "JKUSaLT7GUT0",
        "colab_type": "text"
      },
      "source": [
        "## 1. LGBM Modeling"
      ]
    },
    {
      "cell_type": "markdown",
      "metadata": {
        "id": "RwCupdPOqzbN",
        "colab_type": "text"
      },
      "source": [
        "### 1.1 Input Data 전처리 및 모델 관련 함수 정의"
      ]
    },
    {
      "cell_type": "code",
      "metadata": {
        "id": "DYXl-F9Qe427",
        "colab_type": "code",
        "colab": {}
      },
      "source": [
        "base_path='/content/drive/My Drive/big_con/model/true_lgbm'  #모델 저장 경로\n",
        "\n",
        "def save_model(filename,model,path=base_path):               #모델 저장\n",
        "  file_path=os.path.join(path,filename)  \n",
        "  joblib.dump(model,file_path) \n",
        "\n",
        "def load_model(filename,path=base_path):                     #모델 불러오기\n",
        "  file_path=os.path.join(path,filename) \n",
        "  model = joblib.load(file_path)\n",
        "  return model\n",
        "\n",
        "\n",
        "def met(x,y): #x: y_test, y: y_pred                          #성능 출력\n",
        "    accuracy = accuracy_score(x, y)\n",
        "    precision=precision_score(x, y)\n",
        "    recall=recall_score(x, y)\n",
        "    roc=roc_auc_score(x, y)\n",
        "    print(\"Accuracy: %.2f%%\" % (accuracy * 100.0))\n",
        "    print(\"Precision: %.2f%% \" % (precision *100))\n",
        "    print(\"Recall: %.2f%% \" % (recall * 100))\n",
        "    print(\"AUC: %.2f%% \" % (roc *100))\n",
        "\n",
        "def pre_data(data_x):                                       #Biinary Category 정리 및 One Hot Encoding\n",
        "    data_x.reset_index(inplace=True)\n",
        "    afsnt_c02_binary=data_x[(data_x.DRR=='C02')|(data_x.DLY=='N')] \n",
        "    afsnt_c02_binary.AOD=np.where(afsnt_c02_binary.AOD=='D',1,0)\n",
        "    afsnt_c02_binary.IRR=np.where(afsnt_c02_binary.IRR=='Y',1,0)\n",
        "    x=afsnt_c02_binary.drop(['DRR'],axis=1)\n",
        "    x=pd.get_dummies(data=x,columns=['ARP','ODP','FLO'])     \n",
        "    x.DLY=np.where(x.DLY=='Y',1,0)\n",
        "    return x\n",
        "    "
      ],
      "execution_count": 0,
      "outputs": []
    },
    {
      "cell_type": "markdown",
      "metadata": {
        "id": "B3rHkqMZlgcQ",
        "colab_type": "text"
      },
      "source": [
        "### 1.2 EDA에서 전처리한 파일 불러오기"
      ]
    },
    {
      "cell_type": "code",
      "metadata": {
        "id": "rG88ypSQEHu1",
        "colab_type": "code",
        "colab": {}
      },
      "source": [
        "afsnt_out=pd.read_csv('/content/drive/My Drive/test_colab/afsnt_pre.csv',encoding='utf-8',index_col=0)  #EDA 전처리한 파일\n",
        "afsnt_out.index=pd.to_datetime(afsnt_out.Date)\n",
        "afsnt_out['Month']=afsnt_out.index.month\n",
        "afsnt_out.drop(['Date','FLT'],axis=1,inplace=True)"
      ],
      "execution_count": 0,
      "outputs": []
    },
    {
      "cell_type": "code",
      "metadata": {
        "id": "ARNvI2RhiWEu",
        "colab_type": "code",
        "outputId": "5cde14f4-0bec-4fd5-b7c1-adc37c8a15e6",
        "colab": {
          "base_uri": "https://localhost:8080/",
          "height": 149
        }
      },
      "source": [
        "X=pre_data(afsnt_out)\n",
        "X.index=X.Date\n",
        "X.drop(['Date'],axis=1,inplace=True)"
      ],
      "execution_count": 0,
      "outputs": [
        {
          "output_type": "stream",
          "text": [
            "/usr/local/lib/python3.6/dist-packages/pandas/core/generic.py:5096: SettingWithCopyWarning: \n",
            "A value is trying to be set on a copy of a slice from a DataFrame.\n",
            "Try using .loc[row_indexer,col_indexer] = value instead\n",
            "\n",
            "See the caveats in the documentation: http://pandas.pydata.org/pandas-docs/stable/indexing.html#indexing-view-versus-copy\n",
            "  self[name] = value\n"
          ],
          "name": "stderr"
        }
      ]
    },
    {
      "cell_type": "markdown",
      "metadata": {
        "id": "afiP1h45powj",
        "colab_type": "text"
      },
      "source": [
        "### 1.3 Train -Test set 나누기  \n",
        "- Test set을 Delay_DLY와 비슷하게 구성함"
      ]
    },
    {
      "cell_type": "code",
      "metadata": {
        "id": "P6lKcS-NfeBj",
        "colab_type": "code",
        "outputId": "e02f124b-4cca-4807-9c7e-d7c80479f530",
        "colab": {
          "base_uri": "https://localhost:8080/",
          "height": 131
        }
      },
      "source": [
        "X_train=pd.concat([X[:'2018-09-15'],X['2018-10-01':]])\n",
        "X_test=X['2018-09-15':'2018-10-01']\n",
        "Y_train=X_train.DLY\n",
        "Y_test=X_test.DLY\n",
        "X_train.drop('DLY',axis=1,inplace=True)\n",
        "X_test.drop('DLY',axis=1,inplace=True)\n",
        "X_train.reset_index(drop=True)\n",
        "X_test.reset_index(drop=True)\n",
        "Y_train.reset_index(drop=True)\n",
        "Y_test.reset_index(drop=True)\n",
        "X_train.reset_index(inplace=True)\n",
        "X_test.reset_index(inplace=True)\n",
        "X_train.drop('Date',axis=1,inplace=True)\n",
        "X_test.drop('Date',axis=1,inplace=True)"
      ],
      "execution_count": 0,
      "outputs": [
        {
          "output_type": "stream",
          "text": [
            "/usr/local/lib/python3.6/dist-packages/pandas/core/frame.py:3940: SettingWithCopyWarning: \n",
            "A value is trying to be set on a copy of a slice from a DataFrame\n",
            "\n",
            "See the caveats in the documentation: http://pandas.pydata.org/pandas-docs/stable/indexing.html#indexing-view-versus-copy\n",
            "  errors=errors)\n"
          ],
          "name": "stderr"
        }
      ]
    },
    {
      "cell_type": "markdown",
      "metadata": {
        "id": "H_LcK3y-rHKB",
        "colab_type": "text"
      },
      "source": [
        "### 1.4 LGBM Parameter 설정\n",
        "- RandomGridSearchCV로 탐색 후 lr 변경하며 휴리스틱하게 탐색\n",
        "- Imbalanced Data 해결을 위한 class weight 설정  \n",
        "- Random GridSearchCV를 통한 Hyperparameter 탐색"
      ]
    },
    {
      "cell_type": "code",
      "metadata": {
        "id": "inbF_XiYqZnO",
        "colab_type": "code",
        "colab": {}
      },
      "source": [
        "weight_1=np.sqrt((Y_train[Y_train==0].shape[0])/(Y_train[Y_train==1].shape[0])) #\n",
        "weight_2=(Y_train[Y_train==0].shape[0])/(Y_train[Y_train==1].shape[0])   \n",
        "params = {\n",
        "        'num_leaves': 31,\n",
        "    'learning_rate': 0.01,\n",
        "    'feature_fraction': 0.9,\n",
        "    'bagging_fraction': 0.8,\n",
        "    'bagging_freq': 5,\n",
        "    'scale_pos_weight':weight_2,\n",
        "    'random_state': 0,\n",
        "    'n_estimators':10000,\n",
        "    'objective': 'binary',\n",
        "    'reg_lambda':1,\n",
        "    'reg_alpha':1.2,\n",
        "    'metric' : ['auc']\n",
        "        }"
      ],
      "execution_count": 0,
      "outputs": []
    },
    {
      "cell_type": "markdown",
      "metadata": {
        "id": "ei_0dcsfroGo",
        "colab_type": "text"
      },
      "source": [
        "### 1.5  LGBM Training"
      ]
    },
    {
      "cell_type": "code",
      "metadata": {
        "id": "nRjJal_jHQZ3",
        "colab_type": "code",
        "colab": {}
      },
      "source": [
        "X_train, X_val, Y_train, Y_val = train_test_split(X_train, Y_train, test_size=0.1, random_state=42, stratify=Y_train)\n",
        "\n",
        "model =lgb.LGBMClassifier(**params)\n",
        "model.fit(X_train,Y_train,eval_set=[(X_train,Y_train),(X_val,Y_val)],verbose=1,early_stopping_rounds=500)\n",
        "save_model('xxxx',model) \n"
      ],
      "execution_count": 0,
      "outputs": []
    },
    {
      "cell_type": "markdown",
      "metadata": {
        "id": "5H1_GzS2sWsX",
        "colab_type": "text"
      },
      "source": [
        "### 1.6 LGBM 성능 평가\n",
        "\n",
        "1. Accuracy  \n",
        "2. Precision  \n",
        "3. Recall \n",
        "4. AUC"
      ]
    },
    {
      "cell_type": "code",
      "metadata": {
        "id": "mCwpBoN-nHIz",
        "colab_type": "code",
        "outputId": "a53e624a-1583-4a58-f4ac-8436d8fbdbff",
        "colab": {
          "base_uri": "https://localhost:8080/",
          "height": 92
        }
      },
      "source": [
        "def predict_prob(model,data):   \n",
        "  y_prob=[]\n",
        "  for i in model:\n",
        "    y_probab=i.predict_proba(data)\n",
        "    y_prob.append(y_probab)\n",
        "  prediction=np.array(y_prob).mean(axis=0)\n",
        "  return np.argmax(prediction,axis=1)\n",
        "\n",
        "model_1=load_model('lightlight')\n",
        "y_pred=model_1.predict(X_test)\n",
        "met(Y_test,y_pred)"
      ],
      "execution_count": 0,
      "outputs": [
        {
          "output_type": "stream",
          "text": [
            "Accuracy: 74.75%\n",
            "Precision: 19.20% \n",
            "Recall: 70.10% \n",
            "AUC: 72.62% \n"
          ],
          "name": "stdout"
        }
      ]
    },
    {
      "cell_type": "markdown",
      "metadata": {
        "id": "u9EgDIgTsdWX",
        "colab_type": "text"
      },
      "source": [
        "## 2. Xgboost Modeling  \n",
        "\n",
        "1. RandomGridSearchCV 로 Hyperparameter 탐색\n",
        "2. Model Training  \n"
      ]
    },
    {
      "cell_type": "markdown",
      "metadata": {
        "id": "voujkL-56b7S",
        "colab_type": "text"
      },
      "source": [
        "### 2.1 Xgboost Training"
      ]
    },
    {
      "cell_type": "code",
      "metadata": {
        "id": "PP6ylkuaProb",
        "colab_type": "code",
        "colab": {}
      },
      "source": [
        "import xgboost as xgb\n",
        "\n",
        "base_path='/content/drive/My Drive/big_con/model/xgboost'   #xgboost 저장 경로\n",
        "  \n",
        "params = {\n",
        "        'gamma':0.1,\n",
        "        'learning_rate':0.1,\n",
        "        'max_depth':3,\n",
        "        'n_estimators':10000,\n",
        "        'n_jobs':-1,\n",
        "        'reg_lambda':1,\n",
        "        'eval_metric':'auc',\n",
        "        'objective':'binary:logistic',\n",
        "        'scale_pos_weight':weight_2,\n",
        "        'min_child_weight' : 1,\n",
        "        'random_state': 0\n",
        "\n",
        "        }\n",
        "\n",
        "x_train, x_val, y_train, y_val = train_test_split(X_train, Y_train, test_size=0.1, random_state=42, stratify=y_train)\n",
        "\n",
        "model = xgb.XGBClassifier(**params)\n",
        "model.fit(X_train,Y_train,eval_set=[(x_train,y_train),(x_val,y_val)],verbose=1,early_stopping_rounds=500)\n",
        "save_model('xgbxgb',model)"
      ],
      "execution_count": 0,
      "outputs": []
    },
    {
      "cell_type": "markdown",
      "metadata": {
        "id": "D_I1iwKq64kh",
        "colab_type": "text"
      },
      "source": [
        "## 2.2 Xgoost Evaluation"
      ]
    },
    {
      "cell_type": "code",
      "metadata": {
        "id": "jAZ857te3-Wh",
        "colab_type": "code",
        "outputId": "9c607b7a-723f-4802-b7e4-f782264b99e8",
        "colab": {
          "base_uri": "https://localhost:8080/",
          "height": 92
        }
      },
      "source": [
        "model_2=load_model('xgbxgb')\n",
        "y_pred=model_2.predict(X_test)\n",
        "met(Y_test,y_pred)"
      ],
      "execution_count": 0,
      "outputs": [
        {
          "output_type": "stream",
          "text": [
            "Accuracy: 72.80%\n",
            "Precision: 17.78% \n",
            "Recall: 69.01% \n",
            "AUC: 71.06% \n"
          ],
          "name": "stdout"
        }
      ]
    }
  ]
}